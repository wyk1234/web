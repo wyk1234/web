{
 "cells": [
  {
   "cell_type": "code",
   "execution_count": 12,
   "metadata": {},
   "outputs": [],
   "source": [
    "import sys\n",
    "sys.path.append(r'/home/a/Lwy_research/equity_tail_strategy')\n",
    "from _functions import *\n",
    "from update_seconddata_ver2 import *"
   ]
  },
  {
   "cell_type": "code",
   "execution_count": 2,
   "metadata": {},
   "outputs": [],
   "source": [
    "# 这一部分函数之前有\n",
    "# 计算完整的秒序列\n",
    "def calc_sec_list(keep_last = False):\n",
    "    time_series=[]  #所有的秒序列,不包括早尾盘集合竞价(也就是093000-145659的)\n",
    "    for i in [9,10,11,13,14]:\n",
    "        for j in range(60):\n",
    "            if i==9 and j<30:\n",
    "                continue\n",
    "            elif i==11 and j>=30:\n",
    "                continue\n",
    "            elif i==14 and j>=57:\n",
    "                continue\n",
    "            time_series.extend([int(str(i)+'0'*(2-len(str(j)))+str(j)+'0'*(2-len(str(x)))+str(x)) for x in range(60)])\n",
    "    if keep_last: # 保留最后一个时点\n",
    "        time_series += [150000]\n",
    "    return time_series\n",
    "\n",
    "# 转化为1秒级时间,比如如果time为93524380，且转化的1s时间为93524000\n",
    "def get_second_1s(time_10ms):\n",
    "    div = 1000\n",
    "    return round(round(time_10ms // div) * div) # 先取整再标准化为Level2时间\n",
    "\n",
    "# 转化为分钟时间,比如如果time为93524380，且转化的1s时间为93500000\n",
    "def get_second_60s(time_10ms):\n",
    "    div = 100000\n",
    "    return round(round(time_10ms // div) * div) # 先取整再标准化为Level2时间"
   ]
  },
  {
   "cell_type": "code",
   "execution_count": 3,
   "metadata": {},
   "outputs": [
    {
     "name": "stderr",
     "output_type": "stream",
     "text": [
      "100%|██████████| 14221/14221 [00:00<00:00, 1107346.09it/s]\n"
     ]
    },
    {
     "data": {
      "text/plain": [
       "238"
      ]
     },
     "execution_count": 3,
     "metadata": {},
     "output_type": "execute_result"
    }
   ],
   "source": [
    "time_step = \"60s\" # 这里time_step有可能是1s、5s、10s、60s，这里用60s只作为示例和核对作用\n",
    "get_second_map = eval(rf\"get_second_{time_step}\")\n",
    "second_list = calc_sec_list(keep_last=True)\n",
    "second_list = [x*1000 for x in second_list]\n",
    "standard_time_list = []\n",
    "for time in tqdm(second_list):\n",
    "    if get_second_map(time) not in standard_time_list:\n",
    "        standard_time_list.append(get_second_map(time))\n",
    "len(standard_time_list)"
   ]
  },
  {
   "cell_type": "code",
   "execution_count": 21,
   "metadata": {},
   "outputs": [],
   "source": [
    "date = \"20250320\"\n",
    "sample_order_data = pd.read_feather(rf\"./example_data/sample_order_{date}.fea\")\n",
    "sample_trans_data = pd.read_feather(rf\"./example_data/sample_trans_{date}.fea\")\n",
    "order_data_dict = change_df2dict(sample_order_data)\n",
    "trans_data_dict = change_df2dict(sample_trans_data)\n",
    "intra_support_data =  read_daily_support(date)\n",
    "intra_support_data.index = ['%06d'%int(x) for x in intra_support_data.index]\n",
    "code_list = set(order_data_dict.keys()) & set(order_data_dict.keys()) & set(intra_support_data.index)\n",
    "\n"
   ]
  },
  {
   "cell_type": "code",
   "execution_count": 23,
   "metadata": {},
   "outputs": [
    {
     "name": "stderr",
     "output_type": "stream",
     "text": [
      "100%|██████████| 997/997 [01:45<00:00,  9.42it/s]\n"
     ]
    }
   ],
   "source": [
    "def calc_stock_second_data_ver2(code, trans_data, order_data,  intra_support_data, standard_time_list, get_second_map):\n",
    "    '''\n",
    "    计算一些逐笔成交、逐笔委托构造的进阶指标\n",
    "    '''\n",
    "    tot_fac_num = 0\n",
    "    second_data_list = []\n",
    "    for func in [calc_bft_ver4d1, calc_bft_ver5d1, calc_time_dist, calc_trans_abnormal, calc_wait_time1, calc_fjl1, calc_bhv]:\n",
    "        try:\n",
    "            fac_res = func(code, trans_data, order_data, intra_support_data, standard_time_list, get_second_map)\n",
    "            \n",
    "            tot_fac_num += fac_res.shape[1]\n",
    "            second_data_list.append(fac_res)\n",
    "        except Exception as e:\n",
    "            print(code,e)\n",
    "            \n",
    "    second_data = pd.concat(second_data_list, axis = 1)\n",
    "    assert len(second_data.columns) == tot_fac_num\n",
    "    second_data = second_data.reindex(standard_time_list)\n",
    "    second_data.index.name = \"second\"\n",
    "    second_data[\"Code\"] = code\n",
    "    second_data = second_data.reset_index().set_index(\"Code\")\n",
    "# try:\n",
    "\n",
    "\n",
    "    return second_data\n",
    "\n",
    "\n",
    "# 这里intra_support_data仅仅作用为提供了一个preclose，实盘直接用查到的preclose就行\n",
    "second_data_list = Parallel(n_jobs=32)(delayed(calc_stock_second_data_ver2)(code, trans_data_dict[code], order_data_dict[code],  intra_support_data, standard_time_list, get_second_map) for code in tqdm(code_list))\n",
    "second_data = pd.concat(second_data_list)"
   ]
  },
  {
   "cell_type": "code",
   "execution_count": 28,
   "metadata": {},
   "outputs": [],
   "source": [
    "second_data.reset_index().to_feather(rf\"./example_data/sample_secondv2_{date}.fea\", compression =\"zstd\")"
   ]
  },
  {
   "cell_type": "code",
   "execution_count": 30,
   "metadata": {},
   "outputs": [],
   "source": [
    "intra_support_data.reset_index().to_csv(rf\"./example_data/sample_intra_support_{date}.csv\")"
   ]
  }
 ],
 "metadata": {
  "kernelspec": {
   "display_name": "base",
   "language": "python",
   "name": "python3"
  },
  "language_info": {
   "codemirror_mode": {
    "name": "ipython",
    "version": 3
   },
   "file_extension": ".py",
   "mimetype": "text/x-python",
   "name": "python",
   "nbconvert_exporter": "python",
   "pygments_lexer": "ipython3",
   "version": "3.9.13"
  }
 },
 "nbformat": 4,
 "nbformat_minor": 2
}
