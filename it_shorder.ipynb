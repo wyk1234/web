{
 "cells": [
  {
   "cell_type": "code",
   "execution_count": 2,
   "metadata": {},
   "outputs": [],
   "source": [
    "import sys\n",
    "sys.path.append(rf\"/home/a/Lwy_research\")\n",
    "from Functions import *"
   ]
  },
  {
   "cell_type": "code",
   "execution_count": 5,
   "metadata": {},
   "outputs": [],
   "source": [
    "date = \"20250328\"\n",
    "# 实盘数据生成sh逐笔委托\n",
    "trans_data_sh = pd.read_csv(rf\"./example_data/sample_{date}_mdl_4_24_0.csv\", index_col = False)\n",
    "trans_data_sh = trans_data_sh.loc[trans_data_sh[\"SecurityID\"].map(lambda x:str(x)[:2] in ['60', '68'])]\n",
    "\n",
    "trans_data_sh[\"orderId\"] = trans_data_sh[[\"BuyOrderNO\", \"SellOrderNO\"]].max(axis= 1) \n",
    "cancel_data_sh = trans_data_sh.loc[trans_data_sh[\"Type\"].isin([\"D\"])]\n",
    "order_data_sh = trans_data_sh.loc[trans_data_sh[\"Type\"].isin([\"A\", \"T\"])]\n",
    "\n",
    "# 去掉集合竞价的成交单，包括早盘和尾盘，因为集合竞价成交单处理逻辑会有不同\n",
    "order_data_sh = order_data_sh[~((order_data_sh[\"Type\"] == \"T\") & ((order_data_sh[\"TickTime\"] < \"09:29:00.000\") | (order_data_sh[\"TickTime\"] > \"14:59:00.000\")))]\n",
    "\n",
    "order_data_sh[\"Pricemax\"] = order_data_sh[\"Price\"]\n",
    "order_data_sh[\"Pricemin\"] = order_data_sh[\"Price\"]\n",
    "\n",
    "# 将sh订单还原，sh订单包含主动成交部分+剩余委托部分，需要通过groupby还原\n",
    "order_data_sh = order_data_sh.groupby([\"SecurityID\", \"orderId\"]).agg({  'TickTime': 'first',\n",
    "                                                    'TickBSFlag': 'first',\n",
    "                                                    'Pricemax': 'max',\n",
    "                                                    'Pricemin': 'min',\n",
    "                                                    'BizIndex': 'min',\n",
    "                                                    'Qty': 'sum'}).reset_index()\n",
    "# 订单价格如果是买单，就取价格最大，卖单就取价格最小\n",
    "order_data_sh[\"Price\"] = (order_data_sh[\"TickBSFlag\"] == \"B\") * order_data_sh['Pricemax'] + (order_data_sh[\"TickBSFlag\"] == \"S\") * order_data_sh['Pricemin'] \n",
    "\n",
    "# SH需要的字段\n",
    "local_data_sh = pd.DataFrame(index=order_data_sh.index)\n",
    "local_data_sh['date'] = date\n",
    "local_data_sh['code'] = order_data_sh['SecurityID'].map(lambda x:str(x).zfill(6))\n",
    "local_data_sh['time'] = order_data_sh['TickTime'].map(lambda x:int(x.replace(':', '').replace('.', '')))\n",
    "local_data_sh['orderId'] = order_data_sh['BizIndex'].astype(\"int\")\n",
    "local_data_sh['orderType'] = 'A'\n",
    "local_data_sh['orderSide'] = order_data_sh['TickBSFlag']\n",
    "local_data_sh['orderPrice'] = round(order_data_sh['Price'] + 1e-8, 2)\n",
    "local_data_sh['orderVolume'] = order_data_sh['Qty'].astype(\"int\")\n",
    "local_data_sh['orderIdOrigin'] = order_data_sh['orderId'].astype(\"int\")\n",
    "\n",
    "local_cancel_sh = pd.DataFrame(index=cancel_data_sh.index)\n",
    "local_cancel_sh['date'] = date\n",
    "local_cancel_sh['code'] = cancel_data_sh['SecurityID'].map(lambda x:str(x).zfill(6))\n",
    "local_cancel_sh['time'] = cancel_data_sh['TickTime'].map(lambda x:int(x.replace(':', '').replace('.', '')))\n",
    "local_cancel_sh['orderId'] = cancel_data_sh['BizIndex'].astype(\"int\")\n",
    "local_cancel_sh['orderType'] = 'D'\n",
    "local_cancel_sh['orderSide'] = cancel_data_sh['TickBSFlag']\n",
    "local_cancel_sh['orderPrice'] = round(cancel_data_sh['Price'] + 1e-8, 2)\n",
    "local_cancel_sh['orderVolume'] = -cancel_data_sh['Qty'].astype(\"int\")\n",
    "local_cancel_sh['orderIdOrigin'] = cancel_data_sh['orderId'].astype(\"int\")\n",
    "\n",
    "local_data_sh = pd.concat([local_data_sh, local_cancel_sh])\n",
    "local_data_sh['orderAmount'] = round(local_data_sh['orderVolume'] *  local_data_sh['orderPrice']+ 1e-8, 2)\n",
    "del trans_data_sh, order_data_sh, cancel_data_sh\n",
    "\n",
    "# 同一时间按照orderid排序\n",
    "local_data = local_data_sh.sort_values([\"code\", \"time\", \"orderId\"])"
   ]
  }
 ],
 "metadata": {
  "kernelspec": {
   "display_name": "base",
   "language": "python",
   "name": "python3"
  },
  "language_info": {
   "codemirror_mode": {
    "name": "ipython",
    "version": 3
   },
   "file_extension": ".py",
   "mimetype": "text/x-python",
   "name": "python",
   "nbconvert_exporter": "python",
   "pygments_lexer": "ipython3",
   "version": "3.9.13"
  }
 },
 "nbformat": 4,
 "nbformat_minor": 2
}
