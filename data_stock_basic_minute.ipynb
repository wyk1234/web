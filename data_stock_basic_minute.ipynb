{
 "cells": [
  {
   "cell_type": "code",
   "execution_count": 76,
   "metadata": {},
   "outputs": [],
   "source": [
    "import numpy as np\n",
    "import pandas as pd\n",
    "from tqdm import *"
   ]
  },
  {
   "cell_type": "code",
   "execution_count": 77,
   "metadata": {},
   "outputs": [],
   "source": [
    "# 143245730代表14点32分钟57秒730ms\n",
    "# 转化为60秒级时间, 例如如果订单时间为 143245730 转化为 143200000, 最后效果就是 143200000 - 143259999 的所有订单属于143200000这一bar\n",
    "def get_second_60s(time_10ms):\n",
    "    div = 100000\n",
    "    return round(round(time_10ms // div) * div) # 先取整再标准化为Level2时间\n",
    "\n",
    "# 转化为10秒级时间, 例如如果订单时间为 143245730 转化为 143240000, 最后效果就是 143240000 - 143249999 的所有订单属于143240000这一bar\n",
    "def get_second_10s(time_10ms):\n",
    "    div = 10000\n",
    "    return round(round(time_10ms // div) * div) # 先取整再标准化为Level2时间\n",
    "\n"
   ]
  },
  {
   "cell_type": "code",
   "execution_count": 78,
   "metadata": {},
   "outputs": [],
   "source": [
    "# 一个标准的时间轴\n",
    "standard_time_list_10s = [92500000]\n",
    "standard_time_list_60s = [92500000]\n",
    "for range_list in [range(9300000, 11300000), range(13000000, 15000001)]:\n",
    "    for i in range_list:\n",
    "        h = round(i // 100 // 100 // 100)\n",
    "        m = round(i // 100 // 100 % 100)\n",
    "        s = round(i // 100 % 100)\n",
    "        ms = round(i % 100)\n",
    "        \n",
    "        if s >= 60:\n",
    "            continue\n",
    "        if m >= 60:\n",
    "            continue\n",
    "        \n",
    "        time_10ms = round(i * 10)\n",
    "        time_10s = get_second_10s(time_10ms)\n",
    "        time_60s = get_second_60s(time_10ms)\n",
    "        \n",
    "        standard_time_list_10s.append(time_10s)\n",
    "        standard_time_list_60s.append(time_60s)\n",
    "        \n",
    "standard_time_list_10s = list(set(standard_time_list_10s))\n",
    "standard_time_list_60s = list(set(standard_time_list_60s))\n",
    "standard_time_list_10s.sort()\n",
    "standard_time_list_60s.sort()"
   ]
  },
  {
   "cell_type": "code",
   "execution_count": 79,
   "metadata": {},
   "outputs": [],
   "source": [
    "def _process_minute_data0(minute_data0, preclose, step = \"60s\"):\n",
    "    minute_data = {}\n",
    "    for field in minute_data0.columns:\n",
    "        df = minute_data0[field].unstack(0)\n",
    "        if field != \"volume\":\n",
    "            df = df.applymap(lambda x: my_round2(x)) # 除了量之外，统一保留两位小数\n",
    "        standard_time_list = eval(rf\"standard_time_list_{step}\")\n",
    "        df = df.reindex(standard_time_list) # 标准化时间轴\n",
    "        df.columns  = df.columns.map(lambda x: x[:6]) # 标准化代码\n",
    "        if field in [\"open\", \"high\", \"low\", \"close\"]: # 价格填充\n",
    "            df = df.replace(0, np.nan).ffill().fillna(preclose)\n",
    "        else: # 量额填充\n",
    "            df = df.fillna(0.0)\n",
    "        minute_data[field] = df.stack()\n",
    "    minute_data = pd.concat(minute_data, axis=1)\n",
    "    return minute_data"
   ]
  },
  {
   "cell_type": "code",
   "execution_count": 80,
   "metadata": {},
   "outputs": [
    {
     "name": "stderr",
     "output_type": "stream",
     "text": [
      "100%|██████████| 4/4 [00:47<00:00, 11.87s/it]\n"
     ]
    }
   ],
   "source": [
    "# 制作频基础数据，高开低收量价等，其中step是间隔，可以为1s，10s和60s等，此处为60s，但是最好做成可变参数，以满足更多需求\n",
    "def update_stock_basic_minute_data(date, step = \"60s\"):\n",
    "    def _process_minute_data0(minute_data0, preclose, step = \"60s\"):\n",
    "        minute_data = {}\n",
    "        for field in minute_data0.columns:\n",
    "            df = minute_data0[field].unstack(0)\n",
    "            if field != \"volume\":\n",
    "                df = df.applymap(lambda x: round(x+1e-8, 2)) # 除了量之外，统一保留两位小数\n",
    "            standard_time_list = eval(rf\"standard_time_list_{step}\")\n",
    "            df = df.reindex(standard_time_list).reindex(preclose.keys(), axis = 1) # 标准化时间轴\n",
    "            if field in [\"open\", \"high\", \"low\", \"close\"]: # 价格填充\n",
    "                df = df.replace(0, np.nan).ffill().fillna(preclose)\n",
    "            else: # 量额填充\n",
    "                df = df.fillna(0.0)\n",
    "            minute_data[field] = df.stack()\n",
    "        minute_data = pd.DataFrame(minute_data)\n",
    "        return minute_data\n",
    "    \n",
    "    try:\n",
    "        name = rf\"StockBasic{step}Data\" # 数据名称\n",
    "        local_file = rf\"./sample_data/local_basic{step}_sample_{date}.fea\"\n",
    "\n",
    "        # 读取所需逐笔成交trans数据，trans数据用于计算每分钟的高开低收量价等数据\n",
    "        trans_data =  pd.read_feather(rf\"./sample_data/local_trans_sample_{date}.fea\")\n",
    "        get_second = eval(rf\"get_second_{step}\")\n",
    "        trans_data[\"time\"] = trans_data[\"time\"].map(get_second) # 处理成分钟或者10s频时间\n",
    "\n",
    "        # 计算每分钟的高开低收量价等数据\n",
    "        data_group = trans_data.groupby([\"code\", \"time\"])\n",
    "        minute_data0 = data_group.agg({\"transPrice\": [\"first\", \"max\", \"min\", \"last\"],\n",
    "                                        \"transVolume\": \"sum\",\n",
    "                                        \"transAmount\": \"sum\"})\n",
    "        minute_data0.columns = [\"open\", \"high\", \"low\", \"close\", \"volume\", \"amount\"]\n",
    "\n",
    "\n",
    "        # 读取当日tick数据，此处主要用来获取preclose, 变成一个字典\n",
    "        preclose = pd.read_feather(rf\"./sample_data/local_tick_sample_{date}.fea\", columns = [\"code\", \"preclose\"]).groupby([\"code\"]).max().dropna().to_dict()[\"preclose\"]\n",
    "\n",
    "        # 进一步处理分钟数据，进行一些填充和处理\n",
    "        minute_data = _process_minute_data0(minute_data0, preclose, step)\n",
    "        minute_data = minute_data.reset_index().sort_values([\"code\", \"time\"])\n",
    "\n",
    "        # 输出数据\n",
    "        minute_data = minute_data.reset_index(drop=True)\n",
    "        minute_data.to_feather(local_file, compression='zstd')   \n",
    "    \n",
    "    except Exception as e:\n",
    "        log_info(name, date, str(e))\n",
    "\n",
    "date_list = [\"20240726\", \"20240729\", \"20240730\", \"20240731\"]\n",
    "for date in tqdm(date_list):\n",
    "    update_stock_basic_minute_data(date, step = \"60s\")"
   ]
  }
 ],
 "metadata": {
  "kernelspec": {
   "display_name": "base",
   "language": "python",
   "name": "python3"
  },
  "language_info": {
   "codemirror_mode": {
    "name": "ipython",
    "version": 3
   },
   "file_extension": ".py",
   "mimetype": "text/x-python",
   "name": "python",
   "nbconvert_exporter": "python",
   "pygments_lexer": "ipython3",
   "version": "3.9.13"
  }
 },
 "nbformat": 4,
 "nbformat_minor": 2
}
